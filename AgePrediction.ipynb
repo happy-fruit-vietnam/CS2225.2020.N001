{
  "nbformat": 4,
  "nbformat_minor": 0,
  "metadata": {
    "colab": {
      "name": "AgePrediction.ipynb",
      "provenance": []
    },
    "kernelspec": {
      "name": "python3",
      "display_name": "Python 3"
    },
    "accelerator": "GPU"
  },
  "cells": [
    {
      "cell_type": "code",
      "metadata": {
        "id": "2zbS1AYuozPw",
        "outputId": "6f3005ef-2457-4432-918c-38aec4d40bc0",
        "colab": {
          "base_uri": "https://localhost:8080/",
          "height": 119
        }
      },
      "source": [
        "!git clone https://github.com/mattans/AgeProgression.git\n",
        "!sed -i 's/save_image_normalized(tensor=generated, filename=dest/save_image_normalized(tensor=generated, fp=dest/' /content/AgeProgression/model.py\n",
        "!sed -i 's/save_image_normalized(tensor=joined, filename=file_name/save_image_normalized(tensor=joined, fp=file_name/' /content/AgeProgression/model.py\n",
        "!sed -i 's/save_image_normalized(tensor=joined, filename=dest/save_image_normalized(tensor=joined, fp=dest/' /content/AgeProgression/model.py\n"
      ],
      "execution_count": 1,
      "outputs": [
        {
          "output_type": "stream",
          "text": [
            "Cloning into 'AgeProgression'...\n",
            "remote: Enumerating objects: 24368, done.\u001b[K\n",
            "remote: Total 24368 (delta 0), reused 0 (delta 0), pack-reused 24368\u001b[K\n",
            "Receiving objects: 100% (24368/24368), 365.94 MiB | 24.51 MiB/s, done.\n",
            "Resolving deltas: 100% (614/614), done.\n",
            "Checking out files: 100% (47449/47449), done.\n"
          ],
          "name": "stdout"
        }
      ]
    },
    {
      "cell_type": "code",
      "metadata": {
        "id": "l_aUiqpypSJQ",
        "outputId": "6e575566-af11-43e0-90b7-85b20ac7e116",
        "colab": {
          "base_uri": "https://localhost:8080/",
          "height": 343
        }
      },
      "source": [
        "!pip install torchvision==0.5.0\n",
        "!pip install torch==1.4.0"
      ],
      "execution_count": 2,
      "outputs": [
        {
          "output_type": "stream",
          "text": [
            "Collecting torchvision==0.5.0\n",
            "\u001b[?25l  Downloading https://files.pythonhosted.org/packages/7e/90/6141bf41f5655c78e24f40f710fdd4f8a8aff6c8b7c6f0328240f649bdbe/torchvision-0.5.0-cp36-cp36m-manylinux1_x86_64.whl (4.0MB)\n",
            "\u001b[K     |████████████████████████████████| 4.0MB 8.6MB/s \n",
            "\u001b[?25hRequirement already satisfied: six in /usr/local/lib/python3.6/dist-packages (from torchvision==0.5.0) (1.15.0)\n",
            "Requirement already satisfied: numpy in /usr/local/lib/python3.6/dist-packages (from torchvision==0.5.0) (1.18.5)\n",
            "Collecting torch==1.4.0\n",
            "\u001b[?25l  Downloading https://files.pythonhosted.org/packages/24/19/4804aea17cd136f1705a5e98a00618cb8f6ccc375ad8bfa437408e09d058/torch-1.4.0-cp36-cp36m-manylinux1_x86_64.whl (753.4MB)\n",
            "\u001b[K     |████████████████████████████████| 753.4MB 21kB/s \n",
            "\u001b[?25hRequirement already satisfied: pillow>=4.1.1 in /usr/local/lib/python3.6/dist-packages (from torchvision==0.5.0) (7.0.0)\n",
            "Installing collected packages: torch, torchvision\n",
            "  Found existing installation: torch 1.6.0+cu101\n",
            "    Uninstalling torch-1.6.0+cu101:\n",
            "      Successfully uninstalled torch-1.6.0+cu101\n",
            "  Found existing installation: torchvision 0.7.0+cu101\n",
            "    Uninstalling torchvision-0.7.0+cu101:\n",
            "      Successfully uninstalled torchvision-0.7.0+cu101\n",
            "Successfully installed torch-1.4.0 torchvision-0.5.0\n",
            "Requirement already satisfied: torch==1.4.0 in /usr/local/lib/python3.6/dist-packages (1.4.0)\n"
          ],
          "name": "stdout"
        }
      ]
    },
    {
      "cell_type": "code",
      "metadata": {
        "id": "2CyTHl2Qp8iA",
        "outputId": "7d6c13ba-0f06-419d-e9a3-c83b899570fc",
        "colab": {
          "base_uri": "https://localhost:8080/",
          "height": 1000
        }
      },
      "source": [
        "%cd /content/AgeProgression\n",
        "!python main.py --mode train --bs 256 -e 30"
      ],
      "execution_count": null,
      "outputs": [
        {
          "output_type": "stream",
          "text": [
            "/content/AgeProgression\n",
            "/usr/local/lib/python3.6/dist-packages/sklearn/utils/deprecation.py:144: FutureWarning: The sklearn.metrics.regression module is  deprecated in version 0.22 and will be removed in version 0.24. The corresponding classes / functions should instead be imported from sklearn.metrics. Anything that cannot be imported from sklearn.metrics is now part of the private API.\n",
            "  warnings.warn(message, FutureWarning)\n",
            "Data folder is ./data/UTKFace\n",
            "Results folder is ./trained_models/2020_10_26/11_25\n",
            "./data/UTKFace\n",
            "[11:29] [Epoch 1] Loss: 0.367755\n",
            "[11:29] Saved Dimg, Dz, E, G, di_optimizer, dz_optimizer, eg_optimizer to ./trained_models/2020_10_26/11_25/epoch1\n",
            "in plot\n",
            "[11:33] [Epoch 2] Loss: 0.282527\n",
            "[11:33] Saved Dimg, Dz, E, G, di_optimizer, dz_optimizer, eg_optimizer to ./trained_models/2020_10_26/11_25/epoch2\n",
            "in plot\n",
            "[11:37] [Epoch 3] Loss: 0.224702\n",
            "[11:37] Saved Dimg, Dz, E, G, di_optimizer, dz_optimizer, eg_optimizer to ./trained_models/2020_10_26/11_25/epoch3\n",
            "in plot\n",
            "[11:41] [Epoch 4] Loss: 0.204104\n",
            "[11:41] Saved Dimg, Dz, E, G, di_optimizer, dz_optimizer, eg_optimizer to ./trained_models/2020_10_26/11_25/epoch4\n",
            "in plot\n",
            "[11:45] [Epoch 5] Loss: 0.210959\n",
            "[11:45] Saved Dimg, Dz, E, G, di_optimizer, dz_optimizer, eg_optimizer to ./trained_models/2020_10_26/11_25/epoch5\n",
            "in plot\n",
            "[11:49] [Epoch 6] Loss: 0.199338\n",
            "[11:49] Saved Dimg, Dz, E, G, di_optimizer, dz_optimizer, eg_optimizer to ./trained_models/2020_10_26/11_25/epoch6\n",
            "in plot\n",
            "[11:53] [Epoch 7] Loss: 0.191445\n",
            "[11:53] Saved Dimg, Dz, E, G, di_optimizer, dz_optimizer, eg_optimizer to ./trained_models/2020_10_26/11_25/epoch7\n",
            "in plot\n",
            "[11:57] [Epoch 8] Loss: 0.188178\n",
            "[11:57] Saved Dimg, Dz, E, G, di_optimizer, dz_optimizer, eg_optimizer to ./trained_models/2020_10_26/11_25/epoch8\n",
            "in plot\n",
            "[12:00] [Epoch 9] Loss: 0.184869\n",
            "[12:00] Saved Dimg, Dz, E, G, di_optimizer, dz_optimizer, eg_optimizer to ./trained_models/2020_10_26/11_25/epoch9\n",
            "in plot\n",
            "[12:04] [Epoch 10] Loss: 0.172029\n",
            "[12:04] Saved Dimg, Dz, E, G, di_optimizer, dz_optimizer, eg_optimizer to ./trained_models/2020_10_26/11_25/epoch10\n",
            "in plot\n",
            "[12:08] [Epoch 11] Loss: 0.159769\n",
            "[12:08] Saved Dimg, Dz, E, G, di_optimizer, dz_optimizer, eg_optimizer to ./trained_models/2020_10_26/11_25/epoch11\n",
            "in plot\n",
            "[12:12] [Epoch 12] Loss: 0.158287\n",
            "[12:12] Saved Dimg, Dz, E, G, di_optimizer, dz_optimizer, eg_optimizer to ./trained_models/2020_10_26/11_25/epoch12\n",
            "in plot\n",
            "[12:16] [Epoch 13] Loss: 0.155530\n",
            "[12:16] Saved Dimg, Dz, E, G, di_optimizer, dz_optimizer, eg_optimizer to ./trained_models/2020_10_26/11_25/epoch13\n",
            "in plot\n",
            "[12:20] [Epoch 14] Loss: 0.170157\n",
            "[12:20] Saved Dimg, Dz, E, G, di_optimizer, dz_optimizer, eg_optimizer to ./trained_models/2020_10_26/11_25/epoch14\n",
            "in plot\n",
            "[12:24] [Epoch 15] Loss: 0.154340\n",
            "[12:24] Saved Dimg, Dz, E, G, di_optimizer, dz_optimizer, eg_optimizer to ./trained_models/2020_10_26/11_25/epoch15\n",
            "in plot\n",
            "[12:28] [Epoch 16] Loss: 0.144652\n",
            "[12:28] Saved Dimg, Dz, E, G, di_optimizer, dz_optimizer, eg_optimizer to ./trained_models/2020_10_26/11_25/epoch16\n",
            "in plot\n",
            "[12:32] [Epoch 17] Loss: 0.156012\n",
            "[12:32] Saved Dimg, Dz, E, G, di_optimizer, dz_optimizer, eg_optimizer to ./trained_models/2020_10_26/11_25/epoch17\n",
            "in plot\n",
            "[12:36] [Epoch 18] Loss: 0.150488\n",
            "[12:36] Saved Dimg, Dz, E, G, di_optimizer, dz_optimizer, eg_optimizer to ./trained_models/2020_10_26/11_25/epoch18\n",
            "in plot\n",
            "[12:40] [Epoch 19] Loss: 0.129500\n",
            "[12:40] Saved Dimg, Dz, E, G, di_optimizer, dz_optimizer, eg_optimizer to ./trained_models/2020_10_26/11_25/epoch19\n",
            "in plot\n",
            "[12:44] [Epoch 20] Loss: 0.137947\n",
            "[12:44] Saved Dimg, Dz, E, G, di_optimizer, dz_optimizer, eg_optimizer to ./trained_models/2020_10_26/11_25/epoch20\n",
            "in plot\n"
          ],
          "name": "stdout"
        }
      ]
    }
  ]
}