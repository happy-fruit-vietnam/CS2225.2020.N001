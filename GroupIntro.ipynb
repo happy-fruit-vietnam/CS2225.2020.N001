{
  "nbformat": 4,
  "nbformat_minor": 0,
  "metadata": {
    "colab": {
      "name": "Copy of GroupIntro.ipynb",
      "provenance": []
    },
    "kernelspec": {
      "name": "python3",
      "display_name": "Python 3"
    }
  },
  "cells": [
    {
      "cell_type": "code",
      "metadata": {
        "id": "dHLrn8b2jZNQ"
      },
      "source": [
        ""
      ],
      "execution_count": null,
      "outputs": []
    },
    {
      "cell_type": "markdown",
      "metadata": {
        "id": "sOiJdeaSjaca"
      },
      "source": [
        "TÊN ĐỀ TÀI: NHẬN DẠNG SẢN PHẨM HẠT ĐIỀU NGUYÊN LIỆU ĐÁP ỨNG TIÊU CHUẨN MANG CHỈ DẪN ĐỊA LÝ “BÌNH PHƯỚC”  \n",
        "\tNhóm : \t\tBùi Thanh Liêm - CH1902013  \n",
        "\t\t\t\t    Lưu Toàn Định - CH1901002\t\t\n",
        "\t          Trần Chí Phúc - CH1901008\n",
        "- INPUT: Ảnh chụp hạt điều nguyên liệu (chưa xác định nguồn gốc xuất xứ) - mỗi ảnh chỉ chụp 1 hạt điều  \n",
        "- OUTPUT: Hạt điều trong ảnh có đáp ứng tiêu chuẩn về mặt cảm quan mang chỉ dẫn địa lý “Bình Phước” hay không.  \n",
      "from IPython.display import Image
           "Image(filename='Anh%20mo%20ta%20bai%20toan.png')
        "- ỨNG DỤNG: Hỗ trợ trong trường hợp nghi ngờ sản phẩm mạo danh “Hạt điều Bình Phước”."
      ]
    }
  ]
}
